{
 "cells": [
  {
   "cell_type": "code",
   "execution_count": 10,
   "id": "a7a0e368-fb0e-4218-9975-f801de60de86",
   "metadata": {},
   "outputs": [
    {
     "name": "stdout",
     "output_type": "stream",
     "text": [
      "Requirement already satisfied: pandas in c:\\users\\mdzik\\pycharmprojects\\sales_data_sample\\.venv\\lib\\site-packages (2.3.3)\n",
      "Requirement already satisfied: altair in c:\\users\\mdzik\\pycharmprojects\\sales_data_sample\\.venv\\lib\\site-packages (5.5.0)\n",
      "Requirement already satisfied: numpy>=1.26.0 in c:\\users\\mdzik\\pycharmprojects\\sales_data_sample\\.venv\\lib\\site-packages (from pandas) (2.3.4)\n",
      "Requirement already satisfied: python-dateutil>=2.8.2 in c:\\users\\mdzik\\pycharmprojects\\sales_data_sample\\.venv\\lib\\site-packages (from pandas) (2.9.0.post0)\n",
      "Requirement already satisfied: pytz>=2020.1 in c:\\users\\mdzik\\pycharmprojects\\sales_data_sample\\.venv\\lib\\site-packages (from pandas) (2025.2)\n",
      "Requirement already satisfied: tzdata>=2022.7 in c:\\users\\mdzik\\pycharmprojects\\sales_data_sample\\.venv\\lib\\site-packages (from pandas) (2025.2)\n",
      "Requirement already satisfied: jinja2 in c:\\users\\mdzik\\pycharmprojects\\sales_data_sample\\.venv\\lib\\site-packages (from altair) (3.1.6)\n",
      "Requirement already satisfied: jsonschema>=3.0 in c:\\users\\mdzik\\pycharmprojects\\sales_data_sample\\.venv\\lib\\site-packages (from altair) (4.25.1)\n",
      "Requirement already satisfied: narwhals>=1.14.2 in c:\\users\\mdzik\\pycharmprojects\\sales_data_sample\\.venv\\lib\\site-packages (from altair) (2.9.0)\n",
      "Requirement already satisfied: packaging in c:\\users\\mdzik\\pycharmprojects\\sales_data_sample\\.venv\\lib\\site-packages (from altair) (25.0)\n",
      "Requirement already satisfied: typing-extensions>=4.10.0 in c:\\users\\mdzik\\pycharmprojects\\sales_data_sample\\.venv\\lib\\site-packages (from altair) (4.15.0)\n",
      "Requirement already satisfied: attrs>=22.2.0 in c:\\users\\mdzik\\pycharmprojects\\sales_data_sample\\.venv\\lib\\site-packages (from jsonschema>=3.0->altair) (25.4.0)\n",
      "Requirement already satisfied: jsonschema-specifications>=2023.03.6 in c:\\users\\mdzik\\pycharmprojects\\sales_data_sample\\.venv\\lib\\site-packages (from jsonschema>=3.0->altair) (2025.9.1)\n",
      "Requirement already satisfied: referencing>=0.28.4 in c:\\users\\mdzik\\pycharmprojects\\sales_data_sample\\.venv\\lib\\site-packages (from jsonschema>=3.0->altair) (0.37.0)\n",
      "Requirement already satisfied: rpds-py>=0.7.1 in c:\\users\\mdzik\\pycharmprojects\\sales_data_sample\\.venv\\lib\\site-packages (from jsonschema>=3.0->altair) (0.28.0)\n",
      "Requirement already satisfied: six>=1.5 in c:\\users\\mdzik\\pycharmprojects\\sales_data_sample\\.venv\\lib\\site-packages (from python-dateutil>=2.8.2->pandas) (1.17.0)\n",
      "Requirement already satisfied: MarkupSafe>=2.0 in c:\\users\\mdzik\\pycharmprojects\\sales_data_sample\\.venv\\lib\\site-packages (from jinja2->altair) (3.0.3)\n"
     ]
    },
    {
     "name": "stderr",
     "output_type": "stream",
     "text": [
      "\n",
      "[notice] A new release of pip is available: 23.2.1 -> 25.2\n",
      "[notice] To update, run: python.exe -m pip install --upgrade pip\n"
     ]
    }
   ],
   "source": [
    "!pip install pandas altair\n",
    "\n",
    "import pandas as pd\n",
    "\n",
    "import altair as alt\n",
    "\n",
    "# Ustawienie, aby pandas wyświetlał wszystkie kolumny\n",
    "pd.set_option('display.max_columns', None)\n",
    "\n",
    "\n",
    "file_path = 'sales_data_sample.csv'"
   ]
  },
  {
   "cell_type": "code",
   "execution_count": 11,
   "id": "73eae901-0986-4447-aa4d-85cfeffbc270",
   "metadata": {},
   "outputs": [],
   "source": [
    "df = pd.read_csv(file_path, encoding='latin1')"
   ]
  },
  {
   "cell_type": "code",
   "execution_count": 13,
   "id": "dbedfeee-221c-40fc-82f0-e952c3c8868d",
   "metadata": {},
   "outputs": [
    {
     "name": "stdout",
     "output_type": "stream",
     "text": [
      "\n",
      "Pierwsze 5 wierszy (head):\n",
      "   ORDERNUMBER  QUANTITYORDERED  PRICEEACH  ORDERLINENUMBER    SALES  \\\n",
      "0        10107               30      95.70                2  2871.00   \n",
      "1        10121               34      81.35                5  2765.90   \n",
      "2        10134               41      94.74                2  3884.34   \n",
      "3        10145               45      83.26                6  3746.70   \n",
      "4        10159               49     100.00               14  5205.27   \n",
      "\n",
      "         ORDERDATE   STATUS  QTR_ID  MONTH_ID  YEAR_ID  PRODUCTLINE  MSRP  \\\n",
      "0   2/24/2003 0:00  Shipped       1         2     2003  Motorcycles    95   \n",
      "1    5/7/2003 0:00  Shipped       2         5     2003  Motorcycles    95   \n",
      "2    7/1/2003 0:00  Shipped       3         7     2003  Motorcycles    95   \n",
      "3   8/25/2003 0:00  Shipped       3         8     2003  Motorcycles    95   \n",
      "4  10/10/2003 0:00  Shipped       4        10     2003  Motorcycles    95   \n",
      "\n",
      "  PRODUCTCODE              CUSTOMERNAME             PHONE  \\\n",
      "0    S10_1678         Land of Toys Inc.        2125557818   \n",
      "1    S10_1678        Reims Collectables        26.47.1555   \n",
      "2    S10_1678           Lyon Souveniers  +33 1 46 62 7555   \n",
      "3    S10_1678         Toys4GrownUps.com        6265557265   \n",
      "4    S10_1678  Corporate Gift Ideas Co.        6505551386   \n",
      "\n",
      "                    ADDRESSLINE1 ADDRESSLINE2           CITY STATE POSTALCODE  \\\n",
      "0        897 Long Airport Avenue          NaN            NYC    NY      10022   \n",
      "1             59 rue de l'Abbaye          NaN          Reims   NaN      51100   \n",
      "2  27 rue du Colonel Pierre Avia          NaN          Paris   NaN      75508   \n",
      "3             78934 Hillside Dr.          NaN       Pasadena    CA      90003   \n",
      "4                7734 Strong St.          NaN  San Francisco    CA        NaN   \n",
      "\n",
      "  COUNTRY TERRITORY CONTACTLASTNAME CONTACTFIRSTNAME DEALSIZE  \n",
      "0     USA       NaN              Yu             Kwai    Small  \n",
      "1  France      EMEA         Henriot             Paul    Small  \n",
      "2  France      EMEA        Da Cunha           Daniel   Medium  \n",
      "3     USA       NaN           Young            Julie   Medium  \n",
      "4     USA       NaN           Brown            Julie   Medium  \n"
     ]
    }
   ],
   "source": [
    "print(\"\\nPierwsze 5 wierszy (head):\")\n",
    "print(df.head())"
   ]
  },
  {
   "cell_type": "code",
   "execution_count": 15,
   "id": "04707688-9264-4571-aed0-fe706c6ae6d9",
   "metadata": {},
   "outputs": [
    {
     "name": "stdout",
     "output_type": "stream",
     "text": [
      "\n",
      "Informacje o danych (info):\n",
      "<class 'pandas.core.frame.DataFrame'>\n",
      "RangeIndex: 2823 entries, 0 to 2822\n",
      "Data columns (total 25 columns):\n",
      " #   Column            Non-Null Count  Dtype  \n",
      "---  ------            --------------  -----  \n",
      " 0   ORDERNUMBER       2823 non-null   int64  \n",
      " 1   QUANTITYORDERED   2823 non-null   int64  \n",
      " 2   PRICEEACH         2823 non-null   float64\n",
      " 3   ORDERLINENUMBER   2823 non-null   int64  \n",
      " 4   SALES             2823 non-null   float64\n",
      " 5   ORDERDATE         2823 non-null   object \n",
      " 6   STATUS            2823 non-null   object \n",
      " 7   QTR_ID            2823 non-null   int64  \n",
      " 8   MONTH_ID          2823 non-null   int64  \n",
      " 9   YEAR_ID           2823 non-null   int64  \n",
      " 10  PRODUCTLINE       2823 non-null   object \n",
      " 11  MSRP              2823 non-null   int64  \n",
      " 12  PRODUCTCODE       2823 non-null   object \n",
      " 13  CUSTOMERNAME      2823 non-null   object \n",
      " 14  PHONE             2823 non-null   object \n",
      " 15  ADDRESSLINE1      2823 non-null   object \n",
      " 16  ADDRESSLINE2      302 non-null    object \n",
      " 17  CITY              2823 non-null   object \n",
      " 18  STATE             1337 non-null   object \n",
      " 19  POSTALCODE        2747 non-null   object \n",
      " 20  COUNTRY           2823 non-null   object \n",
      " 21  TERRITORY         1749 non-null   object \n",
      " 22  CONTACTLASTNAME   2823 non-null   object \n",
      " 23  CONTACTFIRSTNAME  2823 non-null   object \n",
      " 24  DEALSIZE          2823 non-null   object \n",
      "dtypes: float64(2), int64(7), object(16)\n",
      "memory usage: 551.5+ KB\n"
     ]
    }
   ],
   "source": [
    "print(\"\\nInformacje o danych (info):\")\n",
    "df.info()"
   ]
  },
  {
   "cell_type": "code",
   "execution_count": 16,
   "id": "9677057c-9bff-4300-a6af-7c1ef9d7fef9",
   "metadata": {},
   "outputs": [],
   "source": [
    "#CZYSZCZENIE DANYCH"
   ]
  },
  {
   "cell_type": "code",
   "execution_count": 17,
   "id": "79da41d5-6d9b-4af7-a5d0-5df6136d5c0e",
   "metadata": {},
   "outputs": [],
   "source": [
    "df['ORDERDATE'] = pd.to_datetime(df['ORDERDATE'])"
   ]
  },
  {
   "cell_type": "code",
   "execution_count": 18,
   "id": "c5e7bf8c-f419-49d3-8355-dbd9ebb83efa",
   "metadata": {},
   "outputs": [],
   "source": [
    "columns_to_drop = [\n",
    "    'ADDRESSLINE2', \n",
    "    'STATE',        \n",
    "    'POSTALCODE',   \n",
    "    'TERRITORY',    \n",
    "    'PHONE',        \n",
    "    'CONTACTLASTNAME', \n",
    "    'CONTACTFIRSTNAME' \n",
    "]"
   ]
  },
  {
   "cell_type": "code",
   "execution_count": 19,
   "id": "ef605d1b-fa14-4244-b1a3-8544b2b9b1f7",
   "metadata": {},
   "outputs": [
    {
     "name": "stdout",
     "output_type": "stream",
     "text": [
      "Usunięto 7 zbędnych kolumn.\n"
     ]
    }
   ],
   "source": [
    "df.drop(columns=columns_to_drop, inplace=True)\n",
    "print(f\"Usunięto {len(columns_to_drop)} zbędnych kolumn.\")"
   ]
  },
  {
   "cell_type": "code",
   "execution_count": 20,
   "id": "5b3bf1b7-5d1b-4da5-ac39-b42d448d2cbe",
   "metadata": {},
   "outputs": [
    {
     "name": "stdout",
     "output_type": "stream",
     "text": [
      "\n",
      "Informacje o danych (info) PO CZYSZCZENIU:\n",
      "<class 'pandas.core.frame.DataFrame'>\n",
      "RangeIndex: 2823 entries, 0 to 2822\n",
      "Data columns (total 18 columns):\n",
      " #   Column           Non-Null Count  Dtype         \n",
      "---  ------           --------------  -----         \n",
      " 0   ORDERNUMBER      2823 non-null   int64         \n",
      " 1   QUANTITYORDERED  2823 non-null   int64         \n",
      " 2   PRICEEACH        2823 non-null   float64       \n",
      " 3   ORDERLINENUMBER  2823 non-null   int64         \n",
      " 4   SALES            2823 non-null   float64       \n",
      " 5   ORDERDATE        2823 non-null   datetime64[ns]\n",
      " 6   STATUS           2823 non-null   object        \n",
      " 7   QTR_ID           2823 non-null   int64         \n",
      " 8   MONTH_ID         2823 non-null   int64         \n",
      " 9   YEAR_ID          2823 non-null   int64         \n",
      " 10  PRODUCTLINE      2823 non-null   object        \n",
      " 11  MSRP             2823 non-null   int64         \n",
      " 12  PRODUCTCODE      2823 non-null   object        \n",
      " 13  CUSTOMERNAME     2823 non-null   object        \n",
      " 14  ADDRESSLINE1     2823 non-null   object        \n",
      " 15  CITY             2823 non-null   object        \n",
      " 16  COUNTRY          2823 non-null   object        \n",
      " 17  DEALSIZE         2823 non-null   object        \n",
      "dtypes: datetime64[ns](1), float64(2), int64(7), object(8)\n",
      "memory usage: 397.1+ KB\n",
      "\n",
      "Próbka danych (head) po czyszczeniu:\n",
      "   ORDERNUMBER  QUANTITYORDERED  PRICEEACH  ORDERLINENUMBER    SALES  \\\n",
      "0        10107               30      95.70                2  2871.00   \n",
      "1        10121               34      81.35                5  2765.90   \n",
      "2        10134               41      94.74                2  3884.34   \n",
      "3        10145               45      83.26                6  3746.70   \n",
      "4        10159               49     100.00               14  5205.27   \n",
      "\n",
      "   ORDERDATE   STATUS  QTR_ID  MONTH_ID  YEAR_ID  PRODUCTLINE  MSRP  \\\n",
      "0 2003-02-24  Shipped       1         2     2003  Motorcycles    95   \n",
      "1 2003-05-07  Shipped       2         5     2003  Motorcycles    95   \n",
      "2 2003-07-01  Shipped       3         7     2003  Motorcycles    95   \n",
      "3 2003-08-25  Shipped       3         8     2003  Motorcycles    95   \n",
      "4 2003-10-10  Shipped       4        10     2003  Motorcycles    95   \n",
      "\n",
      "  PRODUCTCODE              CUSTOMERNAME                   ADDRESSLINE1  \\\n",
      "0    S10_1678         Land of Toys Inc.        897 Long Airport Avenue   \n",
      "1    S10_1678        Reims Collectables             59 rue de l'Abbaye   \n",
      "2    S10_1678           Lyon Souveniers  27 rue du Colonel Pierre Avia   \n",
      "3    S10_1678         Toys4GrownUps.com             78934 Hillside Dr.   \n",
      "4    S10_1678  Corporate Gift Ideas Co.                7734 Strong St.   \n",
      "\n",
      "            CITY COUNTRY DEALSIZE  \n",
      "0            NYC     USA    Small  \n",
      "1          Reims  France    Small  \n",
      "2          Paris  France   Medium  \n",
      "3       Pasadena     USA   Medium  \n",
      "4  San Francisco     USA   Medium  \n"
     ]
    }
   ],
   "source": [
    "print(\"\\nInformacje o danych (info) PO CZYSZCZENIU:\")\n",
    "df.info()\n",
    "\n",
    "print(\"\\nPróbka danych (head) po czyszczeniu:\")\n",
    "print(df.head())"
   ]
  },
  {
   "cell_type": "code",
   "execution_count": 21,
   "id": "6fc7ab49-4473-4bb8-a8ee-eb07fc738ceb",
   "metadata": {},
   "outputs": [],
   "source": [
    "#Analiza Trendów Sprzedaży"
   ]
  },
  {
   "cell_type": "code",
   "execution_count": 22,
   "id": "ffd66436-99e7-4ec2-9215-5a9e019014cb",
   "metadata": {},
   "outputs": [],
   "source": [
    "#Używamy .dt.to_period('M'), aby dostać format 'YYYY-MM'\n",
    "df['YEAR_MONTH'] = df['ORDERDATE'].dt.to_period('M')"
   ]
  },
  {
   "cell_type": "code",
   "execution_count": 24,
   "id": "0276fd97-d0aa-4a6c-978a-970fc2fa46ba",
   "metadata": {},
   "outputs": [],
   "source": [
    "df['MONTH'] = df['ORDERDATE'].dt.month_name()"
   ]
  },
  {
   "cell_type": "code",
   "execution_count": 25,
   "id": "e38ca379-afec-42b1-8962-29ac1aa97321",
   "metadata": {},
   "outputs": [],
   "source": [
    "#Agregacja danych do analizy trendu (Sprzedaż w czasie)\n",
    "sales_trend = df.groupby('YEAR_MONTH')['SALES'].sum().reset_index()\n",
    "sales_trend['YEAR_MONTH'] = sales_trend['YEAR_MONTH'].dt.to_timestamp()"
   ]
  },
  {
   "cell_type": "code",
   "execution_count": 26,
   "id": "cc3e0d7b-5538-4e74-92bf-09993c4dbbc4",
   "metadata": {},
   "outputs": [],
   "source": [
    "#Agregacja danych do analizy sezonowości (Sprzedaż wg miesięcy)\n",
    "sales_seasonal = df.groupby('MONTH')['SALES'].sum().reset_index()"
   ]
  },
  {
   "cell_type": "code",
   "execution_count": 28,
   "id": "1bba11a5-6d68-4903-a633-d20ba29ebe87",
   "metadata": {},
   "outputs": [],
   "source": [
    "#Definiowanie poprawnej kolejności miesięcy do sortowania wykresu\n",
    "month_order = [\n",
    "    'January', 'February', 'March', 'April', 'May', 'June',\n",
    "    'July', 'August', 'September', 'October', 'November', 'December'\n",
    "]"
   ]
  },
  {
   "cell_type": "code",
   "execution_count": 29,
   "id": "cad51824-dbc2-424f-a628-6c757d65387b",
   "metadata": {},
   "outputs": [
    {
     "data": {
      "text/plain": [
       "DataTransformerRegistry.enable('json')"
      ]
     },
     "execution_count": 29,
     "metadata": {},
     "output_type": "execute_result"
    }
   ],
   "source": [
    "#w celu unkinięcia błędu maxrowserror\n",
    "alt.data_transformers.enable('json')\n"
   ]
  },
  {
   "cell_type": "code",
   "execution_count": 32,
   "id": "0ce64210-8e52-43b6-bc3c-4ca07a47ef36",
   "metadata": {},
   "outputs": [],
   "source": [
    "#wykres 1 trend sprzedaży w czasie liniowy\n",
    "chart_trend= alt.Chart(sales_trend).mark_line(point=True).encode(\n",
    "    x=alt.X('YEAR_MONTH', title='Data (rok-miesiąc)'),\n",
    "            y=alt.Y('SALES', title='Całkowita sprzedaż w USD'),\n",
    "            tooltip=[\n",
    "        alt.Tooltip('YEAR_MONTH', title='Miesiąc', format='%Y-%m'),\n",
    "        alt.Tooltip('SALES', title='Sprzedaż', format=',.2f')\n",
    "    ]\n",
    ").properties(\n",
    "    title='Trend sprzedaży w czasie (2003-2005)',\n",
    "    width=800,\n",
    "    height=400\n",
    ").interactive()"
   ]
  },
  {
   "cell_type": "code",
   "execution_count": 33,
   "id": "506528c9-0621-488f-a109-bde056067c15",
   "metadata": {},
   "outputs": [],
   "source": [
    "#wykres 2 sezonowość sprzedaży słupkowy\n",
    "chart_seasonal = alt.Chart(sales_seasonal).mark_bar().encode(\n",
    "    x=alt.X('MONTH', title='Miesiąc', sort=month_order),\n",
    "    y=alt.Y('SALES', title='Całkowita Sprzedaż (USD)'),\n",
    "    tooltip=[\n",
    "        alt.Tooltip('MONTH', title='Miesiąc'),\n",
    "        alt.Tooltip('SALES', title='Sprzedaż', format=',.0f')\n",
    "    ]\n",
    ").properties(\n",
    "    title='Sezonowość sprzedaży (Suma ze wszystkich lat)',\n",
    "    width=800\n",
    ").interactive()"
   ]
  },
  {
   "cell_type": "code",
   "execution_count": 34,
   "id": "4adda336-a42a-441a-bb31-eb540655b33d",
   "metadata": {},
   "outputs": [],
   "source": [
    "chart_trend.save('sales_trend_over_time.html')\n",
    "chart_seasonal.save('seasonal_sales_chart.html')"
   ]
  },
  {
   "cell_type": "code",
   "execution_count": 35,
   "id": "7576d3dc-b570-4f8b-a092-3041ad457652",
   "metadata": {},
   "outputs": [],
   "source": [
    "#analiza produktów\n"
   ]
  },
  {
   "cell_type": "code",
   "execution_count": 38,
   "id": "7998a6d5-41f5-4b34-b668-38b2e46e064c",
   "metadata": {},
   "outputs": [],
   "source": [
    "#Analiza Linii Produktowych (Przychód),grupujemy po 'PRODUCTLINE' i sumujemy sprzedaż"
   ]
  },
  {
   "cell_type": "code",
   "execution_count": 39,
   "id": "d6856276-7da4-456e-a2f1-e23783c08c8c",
   "metadata": {},
   "outputs": [],
   "source": [
    "productline_sales=df.groupby('PRODUCTLINE')['SALES'].sum().reset_index()"
   ]
  },
  {
   "cell_type": "code",
   "execution_count": 41,
   "id": "fc96a769-da80-44bf-a0c8-99facd4def8e",
   "metadata": {},
   "outputs": [
    {
     "name": "stdout",
     "output_type": "stream",
     "text": [
      "\n",
      "Całkowita sprzedaż wg Linii Produktowej:\n",
      "        PRODUCTLINE       SALES\n",
      "0      Classic Cars  3919615.66\n",
      "6      Vintage Cars  1903150.84\n",
      "1       Motorcycles  1166388.34\n",
      "5  Trucks and Buses  1127789.84\n",
      "2            Planes   975003.57\n",
      "3             Ships   714437.13\n",
      "4            Trains   226243.47\n"
     ]
    }
   ],
   "source": [
    "print(\"\\nCałkowita sprzedaż wg Linii Produktowej:\")\n",
    "print(productline_sales.sort_values(by='SALES', ascending=False))"
   ]
  },
  {
   "cell_type": "code",
   "execution_count": 43,
   "id": "5d8764ca-ef80-4d4f-b74e-68432108c415",
   "metadata": {},
   "outputs": [],
   "source": [
    "#analiza bessellerów liczba zamówień"
   ]
  },
  {
   "cell_type": "code",
   "execution_count": 44,
   "id": "17319b8e-bcb5-4035-86ad-46b2f34846e7",
   "metadata": {},
   "outputs": [],
   "source": [
    "bestselling_products=df['PRODUCTCODE'].value_counts().reset_index()"
   ]
  },
  {
   "cell_type": "code",
   "execution_count": 45,
   "id": "e51ba80e-c1a9-40ba-9102-dbdc0c6ee5a8",
   "metadata": {},
   "outputs": [],
   "source": [
    "bestselling_products.columns=['PRODUCTCODE', 'NUMBER_OF_ORDERS']"
   ]
  },
  {
   "cell_type": "code",
   "execution_count": 46,
   "id": "35c5dc11-7567-4266-b004-85fc2b29fbf8",
   "metadata": {},
   "outputs": [
    {
     "name": "stdout",
     "output_type": "stream",
     "text": [
      "\n",
      " 10 Najczęściej zamawianych produktów (Bestsellery):\n",
      "  PRODUCTCODE  NUMBER_OF_ORDERS\n",
      "0    S18_3232                52\n",
      "1    S12_1666                28\n",
      "2    S10_4962                28\n",
      "3    S18_1097                28\n",
      "4    S10_1949                28\n",
      "5    S18_2432                28\n",
      "6    S32_2509                28\n",
      "7    S24_2840                28\n",
      "8    S24_1444                28\n",
      "9    S50_1392                28\n"
     ]
    }
   ],
   "source": [
    "print(\"\\n 10 Najczęściej zamawianych produktów (Bestsellery):\")\n",
    "print(bestselling_products.head(10))"
   ]
  },
  {
   "cell_type": "code",
   "execution_count": 47,
   "id": "568b622b-0de2-4e5f-a598-30c3d3626aa7",
   "metadata": {},
   "outputs": [],
   "source": [
    "#wykres linnie produktowe słupkowy\n"
   ]
  },
  {
   "cell_type": "code",
   "execution_count": 76,
   "id": "ce37d40e-319f-4689-96c5-8455401658fa",
   "metadata": {},
   "outputs": [],
   "source": [
    "chart_productline=alt.Chart(productline_sales).mark_bar().encode(\n",
    "    x=alt.X('PRODUCTLINE', title='Linia produktowa', sort='-y'),\n",
    "    y=alt.Y('SALES', title='Całkowita sprzedaż w USD'),\n",
    "    tooltip=[\n",
    "        alt.Tooltip('PRODUCTLINE', title='Linia produktowa'),\n",
    "        alt.Tooltip('SALES', title='Sprzedaż', format=',.0f')]\n",
    ").properties(title='Całkowita sprzedaż wg. Linii Produktowej',    width=800\n",
    ").interactive()\n"
   ]
  },
  {
   "cell_type": "code",
   "execution_count": 77,
   "id": "d06c52c9-d8e8-4abf-b08d-1b46616913ce",
   "metadata": {},
   "outputs": [],
   "source": [
    "chart_productline.save('productline_sales.html')"
   ]
  },
  {
   "cell_type": "code",
   "execution_count": 74,
   "id": "57521abe-8110-4c11-97e5-2c8865dac97e",
   "metadata": {},
   "outputs": [],
   "source": [
    "#wykres top 10 bestsellerów słupkowy\n",
    "chart_bestsellers=alt.Chart(bestselling_products.head(10)).mark_bar().encode(\n",
    "    x=alt.X('PRODUCTCODE', title='Kod Produktu', sort='-y'),\n",
    "    y=alt.Y('NUMBER_OF_ORDERS', title='Liczba Zamówień'),\n",
    "    tooltip=['PRODUCTCODE', 'NUMBER_OF_ORDERS']\n",
    ").properties(title='Top 10 Bestsellerów (wg liczby zamówień)',width=800\n",
    ").interactive()"
   ]
  },
  {
   "cell_type": "code",
   "execution_count": 75,
   "id": "09a85014-3e1e-40c5-adce-a8e31189df35",
   "metadata": {},
   "outputs": [],
   "source": [
    "chart_bestsellers.save('top_10_bestsellers.html')"
   ]
  },
  {
   "cell_type": "code",
   "execution_count": 55,
   "id": "671e7bd3-4454-4387-9c86-0b5dc0bbc09a",
   "metadata": {},
   "outputs": [],
   "source": [
    "#pytanie komu sprzedajemy?\n",
    "#analiza klientów"
   ]
  },
  {
   "cell_type": "code",
   "execution_count": 56,
   "id": "17cbeeac-211d-4621-9e79-c133ada91608",
   "metadata": {},
   "outputs": [],
   "source": [
    "#Grupujemy po 'CUSTOMERNAME' i sumujemy sprzedaż\n",
    "customer_sales = df.groupby('CUSTOMERNAME')['SALES'].sum().reset_index()"
   ]
  },
  {
   "cell_type": "code",
   "execution_count": 57,
   "id": "418b181a-08d9-4957-8909-c55b04ccd1fc",
   "metadata": {},
   "outputs": [],
   "source": [
    "#sortowanie\n",
    "top_customers = customer_sales.sort_values(by='SALES', ascending=False).head(10)"
   ]
  },
  {
   "cell_type": "code",
   "execution_count": 58,
   "id": "73327e87-49db-4e6e-89ea-21c852a9b2d9",
   "metadata": {},
   "outputs": [
    {
     "name": "stdout",
     "output_type": "stream",
     "text": [
      "                    CUSTOMERNAME      SALES\n",
      "33         Euro Shopping Channel  912294.11\n",
      "55  Mini Gifts Distributors Ltd.  654858.06\n",
      "6     Australian Collectors, Co.  200995.41\n",
      "58            Muscle Machine Inc  197736.94\n",
      "44             La Rochelle Gifts  180124.90\n",
      "31       Dragon Souveniers, Ltd.  172989.68\n",
      "45             Land of Toys Inc.  164069.44\n",
      "81     The Sharp Gifts Warehouse  160010.27\n",
      "0                 AV Stores, Co.  157807.81\n",
      "3        Anna's Decorations, Ltd  153996.13\n"
     ]
    }
   ],
   "source": [
    "print(top_customers)"
   ]
  },
  {
   "cell_type": "code",
   "execution_count": 63,
   "id": "e35732f2-9727-48f0-97be-b4d73fe001f8",
   "metadata": {},
   "outputs": [],
   "source": [
    "#wykres\n",
    "chart_top_customers=alt.Chart(top_customers).mark_bar().encode(\n",
    "    x=alt.X('CUSTOMERNAME', title='Nazwa klienta', sort='-y'),\n",
    "    y=alt.Y('SALES', title='Całkowita sprzedaż USD'),\n",
    "    tooltip=[\n",
    "        alt.Tooltip('CUSTOMERNAME', title='Nazwa Klienta'),\n",
    "        alt.Tooltip('SALES', title='Sprzedaż', format=',.0f')\n",
    "    ]\n",
    ").properties(\n",
    "    title='Top 10 Klientów (wg całkowitej sprzedaży)',\n",
    "    width=800\n",
    ").interactive()"
   ]
  },
  {
   "cell_type": "code",
   "execution_count": 64,
   "id": "82c1c5fa-06c7-4ada-9c02-f9f11095236d",
   "metadata": {},
   "outputs": [],
   "source": [
    "chart_top_customers.save('top_10_customers.html')"
   ]
  },
  {
   "cell_type": "code",
   "execution_count": 65,
   "id": "a3d43d76-5f1f-4599-9706-debd18946490",
   "metadata": {},
   "outputs": [],
   "source": [
    "#analiza geograficzna\n"
   ]
  },
  {
   "cell_type": "code",
   "execution_count": 66,
   "id": "8f1cdb38-7b42-4627-a609-08884c43c9e8",
   "metadata": {},
   "outputs": [],
   "source": [
    "#grupujemy po 'COUNTRY' i sum sprzedaż"
   ]
  },
  {
   "cell_type": "code",
   "execution_count": 67,
   "id": "e4348396-3fbb-47e0-9d17-cf3d7a4985c9",
   "metadata": {},
   "outputs": [],
   "source": [
    "country_sales = df.groupby('COUNTRY')['SALES'].sum().reset_index()"
   ]
  },
  {
   "cell_type": "code",
   "execution_count": 68,
   "id": "1aef7c4d-63c8-4533-8cdb-f2c743910174",
   "metadata": {},
   "outputs": [],
   "source": [
    "top_countries = country_sales.sort_values(by='SALES', ascending=False).head(10)"
   ]
  },
  {
   "cell_type": "code",
   "execution_count": 69,
   "id": "412568df-43e8-48ff-938c-c66e5d584969",
   "metadata": {},
   "outputs": [
    {
     "name": "stdout",
     "output_type": "stream",
     "text": [
      "      COUNTRY       SALES\n",
      "18        USA  3627982.83\n",
      "14      Spain  1215686.92\n",
      "6      France  1110916.52\n",
      "0   Australia   630623.10\n",
      "17         UK   478880.46\n",
      "9       Italy   374674.31\n",
      "5     Finland   329581.91\n",
      "11     Norway   307463.70\n",
      "13  Singapore   288488.41\n",
      "4     Denmark   245637.15\n"
     ]
    }
   ],
   "source": [
    "print(top_countries)"
   ]
  },
  {
   "cell_type": "code",
   "execution_count": 72,
   "id": "aa2561ef-220d-4f1f-baaf-5df9f5d8d016",
   "metadata": {},
   "outputs": [],
   "source": [
    "chart_top_countries = alt.Chart(top_countries).mark_bar().encode(\n",
    "    #  słupki od największego\n",
    "    x=alt.X('COUNTRY', title='Kraj', sort='-y'),\n",
    "    y=alt.Y('SALES', title='Całkowita Sprzedaż (USD)'),\n",
    "    tooltip=[\n",
    "        alt.Tooltip('COUNTRY', title='Kraj'),\n",
    "        alt.Tooltip('SALES', title='Sprzedaż', format=',.0f')\n",
    "    ]\n",
    ").properties(\n",
    "    title='Top 10 Krajów (wg całkowitej sprzedaży)',\n",
    "    width=800\n",
    ").interactive()"
   ]
  },
  {
   "cell_type": "code",
   "execution_count": 73,
   "id": "697de66a-1ffd-4265-a7d9-acc88677b8a7",
   "metadata": {},
   "outputs": [],
   "source": [
    "chart_top_countries.save('top_10_countries.html')"
   ]
  },
  {
   "cell_type": "code",
   "execution_count": null,
   "id": "22a4b610-f979-4bbe-937c-573e759b51e8",
   "metadata": {},
   "outputs": [],
   "source": []
  }
 ],
 "metadata": {
  "kernelspec": {
   "display_name": "Python 3 (ipykernel)",
   "language": "python",
   "name": "python3"
  },
  "language_info": {
   "codemirror_mode": {
    "name": "ipython",
    "version": 3
   },
   "file_extension": ".py",
   "mimetype": "text/x-python",
   "name": "python",
   "nbconvert_exporter": "python",
   "pygments_lexer": "ipython3",
   "version": "3.12.3"
  }
 },
 "nbformat": 4,
 "nbformat_minor": 5
}
